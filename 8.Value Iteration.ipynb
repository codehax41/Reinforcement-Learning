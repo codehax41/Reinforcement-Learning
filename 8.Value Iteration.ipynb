{
 "cells": [
  {
   "cell_type": "code",
   "execution_count": 2,
   "id": "6e2573d3",
   "metadata": {},
   "outputs": [],
   "source": [
    "import numpy as np\n",
    "import matplotlib.pyplot as plt"
   ]
  },
  {
   "cell_type": "code",
   "execution_count": 4,
   "id": "b4b18f20",
   "metadata": {},
   "outputs": [],
   "source": [
    "n_rows = 4\n",
    "n_cols = 4\n",
    "n_states = n_rows * n_cols\n",
    "n_actions = 4\n",
    "transitions = np.zeros((n_states,n_actions, n_states))\n",
    "rewards = np.zeros((n_states,n_actions, n_states))\n",
    "gamma = 0.9\n",
    "\n",
    "for row in range(n_rows):\n",
    "    for col in range(n_cols):\n",
    "        s = row*n_cols+col\n",
    "        for a in range(n_actions):\n",
    "            if a ==0: #move up\n",
    "                s1 = max(row-1, 0 ) * n_cols + col\n",
    "            elif a ==1: #move down\n",
    "                s1 = min(row+1, n_rows-1) * n_cols + col\n",
    "            elif a == 2: #move left\n",
    "                s1 = row * n_cols + max(col-1, 0 )\n",
    "            else:\n",
    "                s1 = row * n_cols + min(col+1, n_cols-1)\n",
    "            transitions[s,a,s1] = 1.0\n",
    "            rewards[s,a,s1] = -1.0 if s1 != n_states-1 else 0.0"
   ]
  },
  {
   "cell_type": "markdown",
   "id": "a2a5bbc2",
   "metadata": {},
   "source": [
    "This code defines the gridworld environment for which the value iteration algorithm will be applied. It first initializes the number of rows, columns, states, and actions in the environment. Then, it creates two numpy arrays of zeros to represent the transitions and rewards of the environment. Finally, it sets the discount factor gamma to 0.9.\n",
    "\n",
    "The for loops then iterate over each cell in the gridworld environment and for each cell, it defines the transitions and rewards for each action. It first calculates the current state 's', then depending on the action taken, calculates the next state 's1'. The 'transitions' array is updated with the probability of transitioning from state 's' to state 's1' for a given action. The 'rewards' array is updated with the reward received for taking a given action from state 's' and transitioning to state 's1'.\n",
    "\n",
    "In this specific case, the reward for transitioning to any state that is not the goal state (bottom right corner) is set to -1. The reward for transitioning to the goal state is set to 0."
   ]
  },
  {
   "cell_type": "code",
   "execution_count": 6,
   "id": "88767be5",
   "metadata": {
    "scrolled": true
   },
   "outputs": [
    {
     "data": {
      "text/plain": [
       "array([[[1., 0., 0., ..., 0., 0., 0.],\n",
       "        [0., 0., 0., ..., 0., 0., 0.],\n",
       "        [1., 0., 0., ..., 0., 0., 0.],\n",
       "        [0., 1., 0., ..., 0., 0., 0.]],\n",
       "\n",
       "       [[0., 1., 0., ..., 0., 0., 0.],\n",
       "        [0., 0., 0., ..., 0., 0., 0.],\n",
       "        [1., 0., 0., ..., 0., 0., 0.],\n",
       "        [0., 0., 1., ..., 0., 0., 0.]],\n",
       "\n",
       "       [[0., 0., 1., ..., 0., 0., 0.],\n",
       "        [0., 0., 0., ..., 0., 0., 0.],\n",
       "        [0., 1., 0., ..., 0., 0., 0.],\n",
       "        [0., 0., 0., ..., 0., 0., 0.]],\n",
       "\n",
       "       ...,\n",
       "\n",
       "       [[0., 0., 0., ..., 0., 0., 0.],\n",
       "        [0., 0., 0., ..., 1., 0., 0.],\n",
       "        [0., 0., 0., ..., 0., 0., 0.],\n",
       "        [0., 0., 0., ..., 0., 1., 0.]],\n",
       "\n",
       "       [[0., 0., 0., ..., 0., 0., 0.],\n",
       "        [0., 0., 0., ..., 0., 1., 0.],\n",
       "        [0., 0., 0., ..., 1., 0., 0.],\n",
       "        [0., 0., 0., ..., 0., 0., 1.]],\n",
       "\n",
       "       [[0., 0., 0., ..., 0., 0., 0.],\n",
       "        [0., 0., 0., ..., 0., 0., 1.],\n",
       "        [0., 0., 0., ..., 0., 1., 0.],\n",
       "        [0., 0., 0., ..., 0., 0., 1.]]])"
      ]
     },
     "execution_count": 6,
     "metadata": {},
     "output_type": "execute_result"
    }
   ],
   "source": [
    "transitions"
   ]
  },
  {
   "cell_type": "code",
   "execution_count": 16,
   "id": "6d3b1a65",
   "metadata": {},
   "outputs": [],
   "source": [
    "def value_iteration(transitions, rewards, gamma, n_states, n_actions):\n",
    "    v = np.zeros(n_states)\n",
    "    v_history = [v.copy()]\n",
    "    delta = 1\n",
    "    \n",
    "    #value iter loop:\n",
    "    while delta > 1e-6:\n",
    "        delta = 0\n",
    "        for s in range(n_states):\n",
    "            v_old = v[s]\n",
    "            q = np.zeros(n_actions)\n",
    "            for a in range(n_actions):\n",
    "                q[a] = sum(transitions[s,a,s1] * (rewards[s,a,s1] + gamma * v[s1]) for s1 in range(n_states))\n",
    "            v[s] = np.max(q)\n",
    "            delta = max(delta, abs(v_old-v[s]))\n",
    "        v_history.append(v.copy())\n",
    "\n",
    "        \n",
    "    #derive policy \n",
    "    policy = np.zeros(n_states, dtype=np.int)\n",
    "    for s in range(n_states):\n",
    "        q = np.zeros(n_actions)\n",
    "        for a in range(n_actions):\n",
    "            q[a] = sum(transitions[s,a,s1] * (rewards[s,a,s1] + gamma * v[s1]) for s1 in range(n_states))\n",
    "        policy[s] = np.argmax(q)\n",
    "    return policy, v, v_history"
   ]
  },
  {
   "cell_type": "code",
   "execution_count": 17,
   "id": "03e35b94",
   "metadata": {},
   "outputs": [
    {
     "name": "stderr",
     "output_type": "stream",
     "text": [
      "C:\\Users\\ramsu\\AppData\\Local\\Temp\\ipykernel_11052\\2355961571.py:20: DeprecationWarning: `np.int` is a deprecated alias for the builtin `int`. To silence this warning, use `int` by itself. Doing this will not modify any behavior and is safe. When replacing `np.int`, you may wish to use e.g. `np.int64` or `np.int32` to specify the precision. If you wish to review your current use, check the release note link for additional information.\n",
      "Deprecated in NumPy 1.20; for more details and guidance: https://numpy.org/devdocs/release/1.20.0-notes.html#deprecations\n",
      "  policy = np.zeros(n_states, dtype=np.int)\n"
     ]
    }
   ],
   "source": [
    "policy, v, v_history = value_iteration(transitions, rewards, gamma, n_states, n_actions)"
   ]
  },
  {
   "cell_type": "markdown",
   "id": "448eed71",
   "metadata": {},
   "source": [
    "The plot shows the value function of each state at different iterations of the value iteration algorithm. Each subplot represents the value function at a particular iteration. The number of iterations is shown in the title of each subplot.\n",
    "\n",
    "The value function is represented by the color of each square in the gridworld. The darker the square, the higher its value. The top-left square has the highest value, while the bottom-right square has the lowest value.\n",
    "\n",
    "As the algorithm progresses, the values of the squares converge to their optimal values. This is indicated by the fact that the color of the squares becomes more consistent across the different subplots.\n",
    "\n",
    "Overall, the plot shows how the value iteration algorithm gradually converges to the optimal value function for the given gridworld."
   ]
  },
  {
   "cell_type": "code",
   "execution_count": 19,
   "id": "8d9a133e",
   "metadata": {},
   "outputs": [
    {
     "data": {
      "image/png": "[encoded data removed]",
      "text/plain": [
       "<Figure size 1000x800 with 4 Axes>"
      ]
     },
     "metadata": {},
     "output_type": "display_data"
    },
    {
     "data": {
      "text/plain": [
       "<module 'matplotlib.pyplot' from 'C:\\\\Users\\\\ramsu\\\\anaconda3\\\\envs\\\\co2\\\\lib\\\\site-packages\\\\matplotlib\\\\pyplot.py'>"
      ]
     },
     "execution_count": 19,
     "metadata": {},
     "output_type": "execute_result"
    },
    {
     "data": {
      "image/png": "[encoded data removed]",
      "text/plain": [
       "<Figure size 600x500 with 1 Axes>"
      ]
     },
     "metadata": {},
     "output_type": "display_data"
    }
   ],
   "source": [
    "plt.figure(figsize=(10, 8))\n",
    "for i in range(0, len(v_history), 2):\n",
    "    plt.subplot(3,3, int(i/2+1))\n",
    "    plt.imshow(v_history[i].reshape(n_rows, n_cols))\n",
    "    plt.title('Iteration {}'.format(i))\n",
    "    plt.xticks([])\n",
    "    plt.yticks([])\n",
    "plt.show()\n",
    "\n",
    "actions = ['UP', 'DOWN', 'LEFT', 'RIGHT']\n",
    "plt.figure(figsize=(6,5))\n",
    "plt.imshow(policy.reshape(n_rows, n_cols))\n",
    "for row in range(n_rows):\n",
    "    for col in range(n_cols):\n",
    "        plt.text(col, row, actions[policy[row*n_cols + col]],\n",
    "                color='white', ha='center', va='center')\n",
    "plt"
   ]
  },
  {
   "cell_type": "markdown",
   "id": "127df58f",
   "metadata": {},
   "source": [
    "\n",
    "can you be more specific, let me give you some answer how it looking so the final plot is 4x4 grid in which first 3 rows are darker in color and down is showing as action and in the last row fir 3 cell highlighted as yellow and annoted as right and last cell down\n",
    "\n",
    "The final plot is a 4x4 grid representing the different states of the environment. The first three rows of the grid are colored darker, representing the higher value function for those states. The values for the value function are shown in each cell of the grid. The last row of the grid shows the optimal action to take in each state. The three cells highlighted in yellow in the last row indicate the optimal action to take to reach the goal state. The cell on the right is annotated with the word 'right', indicating that the optimal action to take is to move right, and the cell below is annotated with the word 'down', indicating that the optimal action to take is to move down."
   ]
  },
  {
   "cell_type": "code",
   "execution_count": null,
   "id": "191e5307",
   "metadata": {},
   "outputs": [],
   "source": []
  },
  {
   "cell_type": "code",
   "execution_count": null,
   "id": "3313a82a",
   "metadata": {},
   "outputs": [],
   "source": []
  },
  {
   "cell_type": "code",
   "execution_count": null,
   "id": "31e16d15",
   "metadata": {},
   "outputs": [],
   "source": []
  },
  {
   "cell_type": "code",
   "execution_count": null,
   "id": "cfba597c",
   "metadata": {},
   "outputs": [],
   "source": []
  },
  {
   "cell_type": "code",
   "execution_count": null,
   "id": "3943042a",
   "metadata": {},
   "outputs": [],
   "source": []
  },
  {
   "cell_type": "code",
   "execution_count": null,
   "id": "7f114844",
   "metadata": {},
   "outputs": [],
   "source": []
  },
  {
   "cell_type": "code",
   "execution_count": null,
   "id": "6aa24e17",
   "metadata": {},
   "outputs": [],
   "source": []
  },
  {
   "cell_type": "code",
   "execution_count": null,
   "id": "04fd1a2f",
   "metadata": {},
   "outputs": [],
   "source": []
  }
 ],
 "metadata": {
  "kernelspec": {
   "display_name": "co2",
   "language": "python",
   "name": "co2"
  },
  "language_info": {
   "codemirror_mode": {
    "name": "ipython",
    "version": 3
   },
   "file_extension": ".py",
   "mimetype": "text/x-python",
   "name": "python",
   "nbconvert_exporter": "python",
   "pygments_lexer": "ipython3",
   "version": "3.10.8"
  }
 },
 "nbformat": 4,
 "nbformat_minor": 5
}
