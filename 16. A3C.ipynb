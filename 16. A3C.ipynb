{
 "cells": [
  {
   "cell_type": "code",
   "execution_count": 10,
   "id": "7b518b12",
   "metadata": {},
   "outputs": [],
   "source": [
    "import gym\n",
    "import numpy as np\n",
    "import tensorflow as tf\n",
    "import threading"
   ]
  },
  {
   "cell_type": "code",
   "execution_count": 12,
   "id": "253fb093",
   "metadata": {},
   "outputs": [],
   "source": [
    "num_threads = 4\n",
    "max_episodes = 10000\n",
    "gamma = .99\n",
    "learning_rate = 0.01\n",
    "entropy_beta=0.01\n",
    "\n",
    "env_name ='CartPole-v1'\n",
    "env = gym.make(env_name)\n",
    "state_size = env.observation_space.shape[0]\n",
    "action_size = env.action_space.n"
   ]
  },
  {
   "cell_type": "code",
   "execution_count": 22,
   "id": "00e79f64",
   "metadata": {},
   "outputs": [
    {
     "data": {
      "text/plain": [
       "4"
      ]
     },
     "execution_count": 22,
     "metadata": {},
     "output_type": "execute_result"
    }
   ],
   "source": [
    "state_size"
   ]
  },
  {
   "cell_type": "code",
   "execution_count": 23,
   "id": "66222fc6",
   "metadata": {},
   "outputs": [
    {
     "data": {
      "text/plain": [
       "2"
      ]
     },
     "execution_count": 23,
     "metadata": {},
     "output_type": "execute_result"
    }
   ],
   "source": [
    "action_size"
   ]
  },
  {
   "cell_type": "code",
   "execution_count": 13,
   "id": "e9ac0700",
   "metadata": {},
   "outputs": [],
   "source": [
    "global_model = tf.keras.Sequential([tf.keras.layers.Dense(32, activation='relu', input_shape=(state_size,)),\n",
    "                                   tf.keras.layers.Dense(action_size, activation='softmax')])\n",
    "global_model.compile(optimizer=tf.keras.optimizers.Adam(learning_rate=learning_rate), loss='categorical_crossentropy')"
   ]
  },
  {
   "cell_type": "code",
   "execution_count": 20,
   "id": "adb492a6",
   "metadata": {},
   "outputs": [],
   "source": [
    "class Worker(threading.Thread):\n",
    "    def __init__(self, thread_id, global_model):\n",
    "        super(Worker, self).__init__()\n",
    "        self.thread_id = thread_id\n",
    "        self.global_model = global_model\n",
    "        self.env = gym.make(env_name)\n",
    "        self.state_size = state_size\n",
    "        self.action_size = action_size\n",
    "        \n",
    "        self.local_network = tf.keras.Sequential([tf.keras.layers.Dense(32, activation='relu', input_shape=(state_size,)),\n",
    "                                   tf.keras.layers.Dense(action_size, activation='softmax')])\n",
    "        \n",
    "        self.local_network.set_weights(self.global_model.get_weights())\n",
    "        self.optimizer = tf.keras.optimizers.Adam(learning_rate=learning_rate)\n",
    "        \n",
    "        \n",
    "    def run(self):\n",
    "        for episode in range(max_episodes):\n",
    "            state = self.env.reset()\n",
    "            done = False\n",
    "            episode_states = []\n",
    "            episode_actions = []\n",
    "            episode_rewards = []\n",
    "            episode_reward = 0\n",
    "            \n",
    "            while not done:\n",
    "                logits = self.local_network(tf.convert_to_tensor([state], dtype=tf.float32))\n",
    "                action = np.random.choice(action_size, p = np.squeeze(logits.numpy()))\n",
    "                \n",
    "                \n",
    "                next_state, reward, done, _ = self.env.step(action)\n",
    "                episode_reward += reward\n",
    "                \n",
    "                episode_states.append(state)\n",
    "                episode_actions.append(action)\n",
    "                episode_rewards.append(reward)\n",
    "                \n",
    "                state = next_state\n",
    "                \n",
    "                if done:\n",
    "                    discounted_rewards = self.discounted_rewards(episode_rewards)\n",
    "                    \n",
    "                    self.update_global(episode_states, episode_actions, discounted_rewards)\n",
    "                    self.local_network.set_weights(self.global_model.get_weights())\n",
    "                    print(\"Thread:\", self.thread_id, \"Episode:\", episode, \"Reward:\", episode_reward)\n",
    "                    break\n",
    "                    \n",
    "    def discounted_rewards(self, rewards):\n",
    "        discounted_rewards = np.zeros_like(rewards)\n",
    "        running_total = 0\n",
    "        for i in reversed(range(len(rewards))):\n",
    "            running_total = running_total* gamma + rewards[i]\n",
    "            discounted_rewards[i] = running_total\n",
    "        return discounted_rewards\n",
    "\n",
    "\n",
    "    def update_global(self, states, actions, discounted_rewards):\n",
    "        with tf.GradientTape() as tape:\n",
    "            total_loss = self.calculate_t_loss(states, actions, discounted_rewards)\n",
    "        gradients = tape.gradient(total_loss, self.local_network.trainable_variables)\n",
    "        self.optimizer.apply_gradients(zip(gradients, self.local_network.trainable_variables))\n",
    "\n",
    "    def calculate_t_loss(self, states, actions, discounted_rewards):\n",
    "        states = tf.convert_to_tensor(states, dtype=tf.float32)\n",
    "        actions = tf.convert_to_tensor(actions, dtype=tf.float32)\n",
    "        discounted_rewards = tf.convert_to_tensor(discounted_rewards, dtype=tf.float32)\n",
    "        \n",
    "        \n",
    "        logits = self.local_network(states)\n",
    "        probs = tf.nn.softmax(logits)\n",
    "        \n",
    "        cross_entropy = tf.keras.losses.sparse_categorical_crossentropy(actions, logits, from_logits=True)\n",
    "        policy_loss = tf.reduce_mean(cross_entropy * discounted_rewards)\n",
    "        \n",
    "        values = self.local_network(states)\n",
    "        value_loss = tf.reduce_mean(tf.square(discounted_rewards - values))\n",
    "        \n",
    "        entropy_loss = tf.reduce_mean(tf.reduce_mean(probs * tf.math.log(probs), axis=1))\n",
    "        total_loss = -policy_loss + 0.5 * value_loss - 0.01 * entropy_loss\n",
    "        return total_loss"
   ]
  },
  {
   "cell_type": "code",
   "execution_count": 21,
   "id": "a0589108",
   "metadata": {},
   "outputs": [
    {
     "name": "stderr",
     "output_type": "stream",
     "text": [
      "C:\\Users\\ramsu\\anaconda3\\envs\\rl\\lib\\site-packages\\keras\\backend.py:5585: UserWarning: \"`sparse_categorical_crossentropy` received `from_logits=True`, but the `output` argument was produced by a Softmax activation and thus does not represent logits. Was this intended?\n",
      "  output, from_logits = _get_logits(\n",
      "Exception in thread Thread-27:\n",
      "Traceback (most recent call last):\n",
      "  File \"C:\\Users\\ramsu\\anaconda3\\envs\\rl\\lib\\threading.py\", line 980, in _bootstrap_inner\n",
      "Exception in thread Thread-28:\n",
      "Traceback (most recent call last):\n",
      "  File \"C:\\Users\\ramsu\\anaconda3\\envs\\rl\\lib\\threading.py\", line 980, in _bootstrap_inner\n",
      "    self.run()\n",
      "  File \"C:\\Users\\ramsu\\AppData\\Local\\Temp\\ipykernel_13476\\2602850073.py\", line 43, in run\n",
      "Exception in thread Thread-26:\n",
      "Traceback (most recent call last):\n",
      "  File \"C:\\Users\\ramsu\\anaconda3\\envs\\rl\\lib\\threading.py\", line 980, in _bootstrap_inner\n",
      "    self.run()\n",
      "  File \"C:\\Users\\ramsu\\AppData\\Local\\Temp\\ipykernel_13476\\2602850073.py\", line 43, in run\n",
      "    self.run()\n",
      "  File \"C:\\Users\\ramsu\\AppData\\Local\\Temp\\ipykernel_13476\\2602850073.py\", line 43, in run\n",
      "  File \"C:\\Users\\ramsu\\AppData\\Local\\Temp\\ipykernel_13476\\2602850073.py\", line 59, in update_global\n",
      "Exception in thread Thread-25:\n",
      "Traceback (most recent call last):\n",
      "  File \"C:\\Users\\ramsu\\anaconda3\\envs\\rl\\lib\\threading.py\", line 980, in _bootstrap_inner\n",
      "    self.run()\n",
      "  File \"C:\\Users\\ramsu\\AppData\\Local\\Temp\\ipykernel_13476\\2602850073.py\", line 43, in run\n",
      "  File \"C:\\Users\\ramsu\\AppData\\Local\\Temp\\ipykernel_13476\\2602850073.py\", line 59, in update_global\n",
      "  File \"C:\\Users\\ramsu\\AppData\\Local\\Temp\\ipykernel_13476\\2602850073.py\", line 59, in update_global\n",
      "  File \"C:\\Users\\ramsu\\AppData\\Local\\Temp\\ipykernel_13476\\2602850073.py\", line 76, in calculate_t_loss\n",
      "  File \"C:\\Users\\ramsu\\AppData\\Local\\Temp\\ipykernel_13476\\2602850073.py\", line 59, in update_global\n",
      "  File \"C:\\Users\\ramsu\\AppData\\Local\\Temp\\ipykernel_13476\\2602850073.py\", line 76, in calculate_t_loss\n",
      "  File \"C:\\Users\\ramsu\\AppData\\Local\\Temp\\ipykernel_13476\\2602850073.py\", line 76, in calculate_t_loss\n",
      "  File \"C:\\Users\\ramsu\\anaconda3\\envs\\rl\\lib\\site-packages\\tensorflow\\python\\util\\traceback_utils.py\", line 153, in error_handler\n",
      "  File \"C:\\Users\\ramsu\\anaconda3\\envs\\rl\\lib\\site-packages\\tensorflow\\python\\util\\traceback_utils.py\", line 153, in error_handler\n",
      "  File \"C:\\Users\\ramsu\\AppData\\Local\\Temp\\ipykernel_13476\\2602850073.py\", line 76, in calculate_t_loss\n",
      "  File \"C:\\Users\\ramsu\\anaconda3\\envs\\rl\\lib\\site-packages\\tensorflow\\python\\util\\traceback_utils.py\", line 153, in error_handler\n",
      "  File \"C:\\Users\\ramsu\\anaconda3\\envs\\rl\\lib\\site-packages\\tensorflow\\python\\util\\traceback_utils.py\", line 153, in error_handler\n",
      "    raise e.with_traceback(filtered_tb) from None\n",
      "  File \"C:\\Users\\ramsu\\anaconda3\\envs\\rl\\lib\\site-packages\\tensorflow\\python\\framework\\ops.py\", line 7215, in raise_from_not_ok_status\n",
      "    raise e.with_traceback(filtered_tb) from None\n",
      "  File \"C:\\Users\\ramsu\\anaconda3\\envs\\rl\\lib\\site-packages\\tensorflow\\python\\framework\\ops.py\", line 7215, in raise_from_not_ok_status\n",
      "    raise e.with_traceback(filtered_tb) from None\n",
      "  File \"C:\\Users\\ramsu\\anaconda3\\envs\\rl\\lib\\site-packages\\tensorflow\\python\\framework\\ops.py\", line 7215, in raise_from_not_ok_status\n",
      "    raise e.with_traceback(filtered_tb) from None\n",
      "  File \"C:\\Users\\ramsu\\anaconda3\\envs\\rl\\lib\\site-packages\\tensorflow\\python\\framework\\ops.py\", line 7215, in raise_from_not_ok_status\n",
      "    raise core._status_to_exception(e) from None  # pylint: disable=protected-access\n",
      "tensorflow.python.framework.errors_impl.InvalidArgumentError: {{function_node __wrapped__Sub_device_/job:localhost/replica:0/task:0/device:CPU:0}} Incompatible shapes: [17] vs. [17,2] [Op:Sub]\n",
      "    raise core._status_to_exception(e) from None  # pylint: disable=protected-access\n",
      "tensorflow.python.framework.errors_impl.InvalidArgumentError: {{function_node __wrapped__Sub_device_/job:localhost/replica:0/task:0/device:CPU:0}} Incompatible shapes: [24] vs. [24,2] [Op:Sub]\n",
      "    raise core._status_to_exception(e) from None  # pylint: disable=protected-access\n",
      "tensorflow.python.framework.errors_impl.InvalidArgumentError: {{function_node __wrapped__Sub_device_/job:localhost/replica:0/task:0/device:CPU:0}} Incompatible shapes: [16] vs. [16,2] [Op:Sub]\n",
      "    raise core._status_to_exception(e) from None  # pylint: disable=protected-access\n",
      "tensorflow.python.framework.errors_impl.InvalidArgumentError: {{function_node __wrapped__Sub_device_/job:localhost/replica:0/task:0/device:CPU:0}} Incompatible shapes: [15] vs. [15,2] [Op:Sub]\n"
     ]
    }
   ],
   "source": [
    "workers = []\n",
    "for i in range(num_threads):\n",
    "    worker = Worker(i, global_model)\n",
    "    workers.append(worker)\n",
    "    \n",
    "for worker in workers:\n",
    "    worker.start()\n",
    "    \n",
    "for worker in workers:\n",
    "    worker.join()"
   ]
  },
  {
   "cell_type": "code",
   "execution_count": null,
   "id": "2f54898d",
   "metadata": {},
   "outputs": [],
   "source": []
  },
  {
   "cell_type": "code",
   "execution_count": null,
   "id": "42648c2c",
   "metadata": {},
   "outputs": [],
   "source": []
  },
  {
   "cell_type": "code",
   "execution_count": null,
   "id": "7437439e",
   "metadata": {},
   "outputs": [],
   "source": []
  },
  {
   "cell_type": "code",
   "execution_count": null,
   "id": "e26f6004",
   "metadata": {},
   "outputs": [],
   "source": []
  },
  {
   "cell_type": "code",
   "execution_count": null,
   "id": "92d84203",
   "metadata": {},
   "outputs": [],
   "source": []
  },
  {
   "cell_type": "code",
   "execution_count": null,
   "id": "57684877",
   "metadata": {},
   "outputs": [],
   "source": []
  }
 ],
 "metadata": {
  "kernelspec": {
   "display_name": "rl",
   "language": "python",
   "name": "rl"
  },
  "language_info": {
   "codemirror_mode": {
    "name": "ipython",
    "version": 3
   },
   "file_extension": ".py",
   "mimetype": "text/x-python",
   "name": "python",
   "nbconvert_exporter": "python",
   "pygments_lexer": "ipython3",
   "version": "3.9.16"
  }
 },
 "nbformat": 4,
 "nbformat_minor": 5
}
