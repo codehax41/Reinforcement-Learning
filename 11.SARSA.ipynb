{
 "cells": [
  {
   "cell_type": "code",
   "execution_count": 1,
   "id": "0dccb83a",
   "metadata": {},
   "outputs": [],
   "source": [
    "import gym\n",
    "import numpy as np\n",
    "import matplotlib.pyplot as plt"
   ]
  },
  {
   "cell_type": "code",
   "execution_count": 2,
   "id": "e634e020",
   "metadata": {},
   "outputs": [
    {
     "data": {
      "image/png": "[encoded data removed]",
      "text/plain": [
       "<Figure size 640x480 with 1 Axes>"
      ]
     },
     "metadata": {},
     "output_type": "display_data"
    }
   ],
   "source": [
    "env = gym.make('FrozenLake-v1')\n",
    "\n",
    "# Parameters\n",
    "alpha = 0.1 # Learning Rate\n",
    "gamma = 0.99 # Discount facot\n",
    "epsilon = 0.5 # Exploration rate\n",
    "\n",
    "# Initialize Q table\n",
    "Q = np.zeros((env.observation_space.n, env.action_space.n))\n",
    "\n",
    "# Function to choose action using epsilon greedy strategy\n",
    "def choose_action(state):\n",
    "    if np.random.uniform() < epsilon:\n",
    "        #Explore: choose a random action\n",
    "        action = env.action_space.sample()\n",
    "    else:\n",
    "        # Explot: choose action with highest Q-value\n",
    "        action = np.argmax(Q[state, :])\n",
    "    return action\n",
    "\n",
    "#Function to update Q table\n",
    "def update_Q(state, action, reward, next_state, next_action):\n",
    "    Q[state, action] += alpha * (reward + gamma * Q[next_state, next_action] - Q[state, action])\n",
    "\n",
    "n_episodes = 10000\n",
    "reward_list = []\n",
    "for i in range(n_episodes):\n",
    "    # Rest environment and get initial state\n",
    "    state = env.reset()\n",
    "    done = False\n",
    "    total_reward = 0\n",
    "    \n",
    "    # Choose the first action\n",
    "    action = choose_action(state)\n",
    "    \n",
    "    # Loop over time steps within ine episode\n",
    "    while not done:\n",
    "        #env.render()\n",
    "        # Take action and observe next state and reward\n",
    "        next_state, reward, done, _ = env.step(action)\n",
    "        \n",
    "        # Choose next action using epison-greedy strategy\n",
    "        next_action = choose_action(next_state)\n",
    "        \n",
    "        # Update the Q table\n",
    "        update_Q(state, action, reward, next_state, next_action)\n",
    "        \n",
    "        state = next_state\n",
    "        action = next_action\n",
    "        \n",
    "        total_reward += reward\n",
    "    # Append episode total reward to list\n",
    "    reward_list.append(total_reward)\n",
    "plt.bar(np.arange(n_episodes), reward_list)\n",
    "plt.xlabel('Episode')\n",
    "plt.ylabel('Cummulative Reward')\n",
    "plt.show()"
   ]
  },
  {
   "cell_type": "code",
   "execution_count": null,
   "id": "2d1c2d4d",
   "metadata": {},
   "outputs": [],
   "source": []
  }
 ],
 "metadata": {
  "kernelspec": {
   "display_name": "rl",
   "language": "python",
   "name": "rl"
  },
  "language_info": {
   "codemirror_mode": {
    "name": "ipython",
    "version": 3
   },
   "file_extension": ".py",
   "mimetype": "text/x-python",
   "name": "python",
   "nbconvert_exporter": "python",
   "pygments_lexer": "ipython3",
   "version": "3.9.16"
  }
 },
 "nbformat": 4,
 "nbformat_minor": 5
}
