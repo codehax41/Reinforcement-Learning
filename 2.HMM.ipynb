{
 "cells": [
  {
   "cell_type": "code",
   "execution_count": 7,
   "id": "a340515c",
   "metadata": {},
   "outputs": [],
   "source": [
    "from hmmlearn import hmm"
   ]
  },
  {
   "cell_type": "code",
   "execution_count": 8,
   "id": "415b65ab",
   "metadata": {},
   "outputs": [],
   "source": [
    "states = ['Rainy', 'Cloudy', 'Sunny']\n",
    "n_states = len(states)\n",
    "observations = ['Umbrella', 'No Umbrella']\n",
    "n_observations = len(observations)"
   ]
  },
  {
   "cell_type": "code",
   "execution_count": 21,
   "id": "f23f2766",
   "metadata": {},
   "outputs": [],
   "source": [
    "start_probability = np.array([0.33, 0.33, 0.34])\n",
    "transition_probability = np.array([[0.7, 0.3, 0.0],\n",
    "                                 [0.4, 0.6, 0.0],\n",
    "                                 [0.0, 0.4, 0.6]])\n",
    "emission_probability = np.array([[0.5, 0.5],\n",
    "                                [0.9, 0.1],\n",
    "                                [0.1, 0.9]])"
   ]
  },
  {
   "cell_type": "code",
   "execution_count": 45,
   "id": "63ee1075",
   "metadata": {},
   "outputs": [
    {
     "name": "stderr",
     "output_type": "stream",
     "text": [
      "MultinomialHMM has undergone major changes. The previous version was implementing a CategoricalHMM (a special case of MultinomialHMM). This new implementation follows the standard definition for a Multinomial distribution (e.g. as in https://en.wikipedia.org/wiki/Multinomial_distribution). See these issues for details:\n",
      "https://github.com/hmmlearn/hmmlearn/issues/335\n",
      "https://github.com/hmmlearn/hmmlearn/issues/340\n"
     ]
    }
   ],
   "source": [
    "#create hmm object\n",
    "model = hmm.MultinomialHMM(n_components=n_states, n_iter=100)\n",
    "model.n_trials = 10\n",
    "model.startprob_ = start_probability\n",
    "model.transmat_ = transition_probability\n",
    "model.emissionprob_ = emission_probability"
   ]
  },
  {
   "cell_type": "code",
   "execution_count": 54,
   "id": "5447143d",
   "metadata": {},
   "outputs": [],
   "source": [
    "X = np.array([[0,0,], [1,1], [1,0], [0,1]])"
   ]
  },
  {
   "cell_type": "code",
   "execution_count": 55,
   "id": "ae4ea761",
   "metadata": {},
   "outputs": [],
   "source": [
    "hidden_states = model.predict(X)"
   ]
  },
  {
   "cell_type": "code",
   "execution_count": 56,
   "id": "00acb62e",
   "metadata": {},
   "outputs": [
    {
     "name": "stdout",
     "output_type": "stream",
     "text": [
      "Sunny\n",
      "Sunny\n",
      "Sunny\n",
      "Rainy\n"
     ]
    }
   ],
   "source": [
    "for s in hidden_states:\n",
    "    print(states[s])"
   ]
  },
  {
   "cell_type": "code",
   "execution_count": null,
   "id": "a11f0933",
   "metadata": {},
   "outputs": [],
   "source": []
  }
 ],
 "metadata": {
  "kernelspec": {
   "display_name": "co2",
   "language": "python",
   "name": "co2"
  },
  "language_info": {
   "codemirror_mode": {
    "name": "ipython",
    "version": 3
   },
   "file_extension": ".py",
   "mimetype": "text/x-python",
   "name": "python",
   "nbconvert_exporter": "python",
   "pygments_lexer": "ipython3",
   "version": "3.10.8"
  }
 },
 "nbformat": 4,
 "nbformat_minor": 5
}
