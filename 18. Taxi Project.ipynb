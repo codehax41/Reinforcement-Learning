{
 "cells": [
  {
   "cell_type": "code",
   "execution_count": 1,
   "id": "06026a01",
   "metadata": {},
   "outputs": [],
   "source": [
    "import numpy as np\n",
    "import random\n",
    "import time\n",
    "import gym"
   ]
  },
  {
   "cell_type": "code",
   "execution_count": 2,
   "id": "ed3aa9aa",
   "metadata": {},
   "outputs": [
    {
     "name": "stdout",
     "output_type": "stream",
     "text": [
      "+---------+\n",
      "|R: | : :\u001b[35mG\u001b[0m|\n",
      "| : | : : |\n",
      "|\u001b[43m \u001b[0m: : : : |\n",
      "| | : | : |\n",
      "|Y| : |\u001b[34;1mB\u001b[0m: |\n",
      "+---------+\n",
      "\n",
      "Current state is  : 213\n"
     ]
    }
   ],
   "source": [
    "env = gym.make(\"Taxi-v3\")\n",
    "state = env.reset()\n",
    "env.render()\n",
    "print(\"Current state is  :\", state)"
   ]
  },
  {
   "cell_type": "code",
   "execution_count": 3,
   "id": "881a6f88",
   "metadata": {},
   "outputs": [
    {
     "data": {
      "text/plain": [
       "500"
      ]
     },
     "execution_count": 3,
     "metadata": {},
     "output_type": "execute_result"
    }
   ],
   "source": [
    "5*5*4*5"
   ]
  },
  {
   "cell_type": "code",
   "execution_count": 3,
   "id": "ab6dc1a2",
   "metadata": {},
   "outputs": [
    {
     "name": "stdout",
     "output_type": "stream",
     "text": [
      "State Space : 500\n"
     ]
    }
   ],
   "source": [
    "state_size = env.observation_space.n\n",
    "print(\"State Space :\", state_size)"
   ]
  },
  {
   "cell_type": "code",
   "execution_count": 4,
   "id": "39617c2d",
   "metadata": {},
   "outputs": [
    {
     "name": "stdout",
     "output_type": "stream",
     "text": [
      "Action Space : 6\n"
     ]
    }
   ],
   "source": [
    "action_size = env.action_space.n\n",
    "print(\"Action Space :\", action_size)"
   ]
  },
  {
   "cell_type": "markdown",
   "id": "08098051",
   "metadata": {},
   "source": [
    "# Algorithms:\n",
    "- Q Learning\n",
    "- SARSA"
   ]
  },
  {
   "cell_type": "markdown",
   "id": "718e8966",
   "metadata": {},
   "source": [
    "### 1. Q Learning"
   ]
  },
  {
   "cell_type": "code",
   "execution_count": 6,
   "id": "d8b7a29d",
   "metadata": {},
   "outputs": [],
   "source": [
    "q_table = np.zeros((state_size, action_size))\n",
    "episodes = 100000\n",
    "learning_rate = 0.1\n",
    "gamma = 0.7\n",
    "epsilon = 0.1\n",
    "\n",
    "def greedy_policy(state, table):\n",
    "    z = np.random.random()\n",
    "    if z > epsilon:\n",
    "        action = np.argmax(table[state])\n",
    "    else:\n",
    "        action = env.action_space.sample()\n",
    "    return action"
   ]
  },
  {
   "cell_type": "code",
   "execution_count": 7,
   "id": "5bb8b18a",
   "metadata": {},
   "outputs": [
    {
     "name": "stdout",
     "output_type": "stream",
     "text": [
      "Maximum Difference is : 4.567040079450635e-10\n"
     ]
    }
   ],
   "source": [
    "deltas = []\n",
    "for episode in range(1, episodes+1):\n",
    "    state = env.reset()\n",
    "    done = False\n",
    "    step = 0\n",
    "    change_t = 0\n",
    "    \n",
    "    if episode % 5000 == 0:\n",
    "        print(\"Episode: {}\".format(episode))\n",
    "    while not done:\n",
    "        #env.render()\n",
    "        action = greedy_policy(state, q_table)\n",
    "        new_state, reward, done, info = env.step(action)\n",
    "        old_q = q_table[state, action]\n",
    "        \n",
    "        #Update\n",
    "        q_table[state, action] += learning_rate * (reward + gamma * np.max(q_table[new_state, :]) - q_table[state, action])\n",
    "        change_t = max(change_t, np.abs(q_table[state][action] - old_q))\n",
    "        state = new_state\n",
    "    deltas.append(change_t)\n",
    "    if deltas[-1] < 0.000000001:\n",
    "        break\n",
    "    episode += 1\n",
    "print(\"Maximum Difference is :\", deltas[-1])"
   ]
  },
  {
   "cell_type": "code",
   "execution_count": 20,
   "id": "784bc3b7",
   "metadata": {},
   "outputs": [
    {
     "name": "stdout",
     "output_type": "stream",
     "text": [
      "+---------+\n",
      "|\u001b[34;1mR\u001b[0m: | : :G|\n",
      "| : | : : |\n",
      "| : :\u001b[43m \u001b[0m: : |\n",
      "| | : | : |\n",
      "|\u001b[35mY\u001b[0m| : |B: |\n",
      "+---------+\n",
      "\n"
     ]
    }
   ],
   "source": [
    "state = env.reset()\n",
    "env.render()"
   ]
  },
  {
   "cell_type": "code",
   "execution_count": 21,
   "id": "2d25c06c",
   "metadata": {},
   "outputs": [],
   "source": [
    "from IPython.display import clear_output\n",
    "import time"
   ]
  },
  {
   "cell_type": "code",
   "execution_count": 22,
   "id": "b1150971",
   "metadata": {},
   "outputs": [
    {
     "name": "stdout",
     "output_type": "stream",
     "text": [
      "+---------+\n",
      "|R: | : :G|\n",
      "| : | : : |\n",
      "| : : : : |\n",
      "| | : | : |\n",
      "|\u001b[35m\u001b[34;1m\u001b[43mY\u001b[0m\u001b[0m\u001b[0m| : |B: |\n",
      "+---------+\n",
      "  (Dropoff)\n",
      "Episode Reward : 11\n"
     ]
    }
   ],
   "source": [
    "done = False\n",
    "cumulative_reward = 0\n",
    "\n",
    "while(done==False):\n",
    "    best_action = np.argmax(q_table[state, :])\n",
    "    \n",
    "    state, reward, done, _ = env.step(best_action)\n",
    "    \n",
    "    cumulative_reward += reward\n",
    "    time.sleep(0.5)\n",
    "    clear_output(wait=True)\n",
    "    env.render()\n",
    "    print('Episode Reward :', cumulative_reward)"
   ]
  },
  {
   "cell_type": "code",
   "execution_count": null,
   "id": "2eeaa461",
   "metadata": {},
   "outputs": [],
   "source": []
  },
  {
   "cell_type": "code",
   "execution_count": null,
   "id": "7877b0fd",
   "metadata": {},
   "outputs": [],
   "source": []
  },
  {
   "cell_type": "markdown",
   "id": "3e108ef3",
   "metadata": {},
   "source": [
    "### 2. SARSA"
   ]
  },
  {
   "cell_type": "code",
   "execution_count": 31,
   "id": "b9b89c1d",
   "metadata": {},
   "outputs": [
    {
     "name": "stdout",
     "output_type": "stream",
     "text": [
      "+---------+\n",
      "|\u001b[35mR\u001b[0m: | : :G|\n",
      "| : | : :\u001b[43m \u001b[0m|\n",
      "| : : : : |\n",
      "| | : | : |\n",
      "|Y| : |\u001b[34;1mB\u001b[0m: |\n",
      "+---------+\n",
      "\n"
     ]
    }
   ],
   "source": [
    "state = env.reset()\n",
    "env.render()"
   ]
  },
  {
   "cell_type": "code",
   "execution_count": 32,
   "id": "d4e1d2bb",
   "metadata": {},
   "outputs": [
    {
     "name": "stdout",
     "output_type": "stream",
     "text": [
      "Episode: 5000\n",
      "Episode: 10000\n",
      "Episode: 15000\n",
      "Episode: 20000\n",
      "Episode: 25000\n",
      "Episode: 30000\n",
      "Episode: 35000\n",
      "Episode: 40000\n",
      "Episode: 45000\n",
      "Episode: 50000\n",
      "Episode: 55000\n",
      "Episode: 60000\n",
      "Episode: 65000\n",
      "Episode: 70000\n",
      "Episode: 75000\n",
      "Episode: 80000\n",
      "Episode: 85000\n",
      "Episode: 90000\n",
      "Episode: 95000\n",
      "Episode: 100000\n",
      "Maximum Difference is : 0.790652232747\n"
     ]
    }
   ],
   "source": [
    "s_table = np.zeros((state_size, action_size))\n",
    "episodes = 100000\n",
    "deltas = []\n",
    "for episode in range(1, episodes+1):\n",
    "    state = env.reset()\n",
    "    done =False\n",
    "    step = 0\n",
    "    change_t = 0\n",
    "    if episode % 5000 == 0:\n",
    "        print(\"Episode: {}\".format(episode))\n",
    "        \n",
    "    while not done:\n",
    "        action = greedy_policy(state, s_table)\n",
    "        next_state, reward, done, info = env.step(action)\n",
    "        next_action = greedy_policy(state, s_table)\n",
    "        old_t = s_table[state, action]\n",
    "        \n",
    "        s_table[state, action] += learning_rate * (reward+gamma* s_table[new_state, next_action] - s_table[state, action])\n",
    "        change_t = max(change_t, np.abs(s_table[state][action] - old_t))\n",
    "        \n",
    "        state = new_state\n",
    "    deltas.append(change_t)\n",
    "    if deltas[-1] < 0.000000001:\n",
    "        break\n",
    "    episode += 1\n",
    "print(\"Maximum Difference is :\", deltas[-1])"
   ]
  },
  {
   "cell_type": "code",
   "execution_count": 33,
   "id": "5478053c",
   "metadata": {},
   "outputs": [],
   "source": [
    "#test"
   ]
  },
  {
   "cell_type": "code",
   "execution_count": 40,
   "id": "e723af69",
   "metadata": {},
   "outputs": [
    {
     "name": "stdout",
     "output_type": "stream",
     "text": [
      "+---------+\n",
      "|R: | : :\u001b[35mG\u001b[0m|\n",
      "| : | : : |\n",
      "| : : : : |\n",
      "| | :\u001b[43m \u001b[0m| : |\n",
      "|\u001b[34;1mY\u001b[0m| : |B: |\n",
      "+---------+\n",
      "\n"
     ]
    }
   ],
   "source": [
    "state = env.reset()\n",
    "env.render()"
   ]
  },
  {
   "cell_type": "code",
   "execution_count": 41,
   "id": "7133c563",
   "metadata": {},
   "outputs": [
    {
     "name": "stdout",
     "output_type": "stream",
     "text": [
      "+---------+\n",
      "|R: | : :\u001b[35mG\u001b[0m|\n",
      "| : | : : |\n",
      "| : : : : |\n",
      "| |\u001b[43m \u001b[0m: | : |\n",
      "|\u001b[34;1mY\u001b[0m| : |B: |\n",
      "+---------+\n",
      "  (West)\n",
      "Episode Reward : -87\n"
     ]
    },
    {
     "ename": "KeyboardInterrupt",
     "evalue": "",
     "output_type": "error",
     "traceback": [
      "\u001b[1;31m------------------------------------------------\u001b[0m",
      "\u001b[1;31mKeyboardInterrupt\u001b[0mTraceback (most recent call last)",
      "Cell \u001b[1;32mIn[41], line 10\u001b[0m\n\u001b[0;32m      7\u001b[0m state, reward, done, _ \u001b[38;5;241m=\u001b[39m env\u001b[38;5;241m.\u001b[39mstep(best_action)\n\u001b[0;32m      9\u001b[0m cumulative_reward \u001b[38;5;241m+\u001b[39m\u001b[38;5;241m=\u001b[39m reward\n\u001b[1;32m---> 10\u001b[0m \u001b[43mtime\u001b[49m\u001b[38;5;241;43m.\u001b[39;49m\u001b[43msleep\u001b[49m\u001b[43m(\u001b[49m\u001b[38;5;241;43m0.5\u001b[39;49m\u001b[43m)\u001b[49m\n\u001b[0;32m     11\u001b[0m clear_output(wait\u001b[38;5;241m=\u001b[39m\u001b[38;5;28;01mTrue\u001b[39;00m)\n\u001b[0;32m     12\u001b[0m env\u001b[38;5;241m.\u001b[39mrender()\n",
      "\u001b[1;31mKeyboardInterrupt\u001b[0m: "
     ]
    }
   ],
   "source": [
    "done = False\n",
    "cumulative_reward = 0\n",
    "\n",
    "while(done==False):\n",
    "    best_action = np.argmax(s_table[state, :])\n",
    "    \n",
    "    state, reward, done, _ = env.step(best_action)\n",
    "    \n",
    "    cumulative_reward += reward\n",
    "    time.sleep(0.5)\n",
    "    clear_output(wait=True)\n",
    "    env.render()\n",
    "    print('Episode Reward :', cumulative_reward)"
   ]
  },
  {
   "cell_type": "code",
   "execution_count": 11,
   "id": "577f1e4d",
   "metadata": {},
   "outputs": [],
   "source": [
    "q_table = np.zeros((state_size, action_size))\n",
    "episodes = 100000\n",
    "learning_rate = 0.1\n",
    "gamma = 0.9\n",
    "epsilon = 0.1\n",
    "\n",
    "def greedy_policy(state, table):\n",
    "    z = np.random.random()\n",
    "    if z > epsilon:\n",
    "        action = np.argmax(table[state])\n",
    "    else:\n",
    "        action = env.action_space.sample()\n",
    "    return action"
   ]
  },
  {
   "cell_type": "code",
   "execution_count": 12,
   "id": "999a4512",
   "metadata": {},
   "outputs": [
    {
     "name": "stdout",
     "output_type": "stream",
     "text": [
      "+---------+\n",
      "|\u001b[35mR\u001b[0m: | : :G|\n",
      "|\u001b[43m \u001b[0m: | : : |\n",
      "| : : : : |\n",
      "| | : | : |\n",
      "|\u001b[34;1mY\u001b[0m| : |B: |\n",
      "+---------+\n",
      "\n"
     ]
    }
   ],
   "source": [
    "state = env.reset()\n",
    "env.render()"
   ]
  },
  {
   "cell_type": "code",
   "execution_count": 13,
   "id": "b38d7f2d",
   "metadata": {},
   "outputs": [
    {
     "name": "stdout",
     "output_type": "stream",
     "text": [
      "Episode: 5000\n",
      "Episode: 10000\n",
      "Episode: 15000\n",
      "Episode: 20000\n",
      "Episode: 25000\n",
      "Episode: 30000\n",
      "Episode: 35000\n",
      "Episode: 40000\n",
      "Episode: 45000\n",
      "Episode: 50000\n",
      "Episode: 55000\n",
      "Episode: 60000\n",
      "Episode: 65000\n",
      "Episode: 70000\n",
      "Episode: 75000\n",
      "Episode: 80000\n",
      "Episode: 85000\n",
      "Episode: 90000\n",
      "Episode: 95000\n",
      "Episode: 100000\n",
      "Maximum Difference is : 0.22613673298220327\n"
     ]
    }
   ],
   "source": [
    "s_table = np.zeros((state_size, action_size))\n",
    "episodes = 100000\n",
    "deltas = []\n",
    "for episode in range(1, episodes+1):\n",
    "    state = env.reset()\n",
    "    done =False\n",
    "    step = 0\n",
    "    change_t = 0\n",
    "    if episode % 5000 == 0:\n",
    "        print(\"Episode: {}\".format(episode))\n",
    "        \n",
    "    while not done:\n",
    "        action = greedy_policy(state, s_table)\n",
    "        next_state, reward, done, info = env.step(action)\n",
    "        next_action = greedy_policy(state, s_table)\n",
    "        old_t = s_table[state, action]\n",
    "        \n",
    "        s_table[state, action] += learning_rate * (reward+gamma* s_table[next_state, next_action] - s_table[state, action])\n",
    "        change_t = max(change_t, np.abs(s_table[state][action] - old_t))\n",
    "        \n",
    "        state = next_state\n",
    "    deltas.append(change_t)\n",
    "    if deltas[-1] < 0.000000001:\n",
    "        break\n",
    "    episode += 1\n",
    "print(\"Maximum Difference is :\", deltas[-1])"
   ]
  },
  {
   "cell_type": "code",
   "execution_count": 18,
   "id": "48e485f1",
   "metadata": {},
   "outputs": [
    {
     "name": "stdout",
     "output_type": "stream",
     "text": [
      "+---------+\n",
      "|\u001b[35mR\u001b[0m: | : :G|\n",
      "| : | : :\u001b[43m \u001b[0m|\n",
      "| : : : : |\n",
      "| | : | : |\n",
      "|\u001b[34;1mY\u001b[0m| : |B: |\n",
      "+---------+\n",
      "\n"
     ]
    }
   ],
   "source": [
    "state = env.reset()\n",
    "env.render()\n",
    "\n",
    "from IPython.display import clear_output\n",
    "import time"
   ]
  },
  {
   "cell_type": "code",
   "execution_count": 16,
   "id": "622d584c",
   "metadata": {},
   "outputs": [
    {
     "name": "stdout",
     "output_type": "stream",
     "text": [
      "+---------+\n",
      "|R: | : :\u001b[35m\u001b[34;1m\u001b[43mG\u001b[0m\u001b[0m\u001b[0m|\n",
      "| : | : : |\n",
      "| : : : : |\n",
      "| | : | : |\n",
      "|Y| : |B: |\n",
      "+---------+\n",
      "  (Dropoff)\n",
      "Episode Reward : 8\n"
     ]
    }
   ],
   "source": [
    "done = False\n",
    "cumulative_reward = 0\n",
    "\n",
    "while(done==False):\n",
    "    best_action = np.argmax(s_table[state, :])\n",
    "    \n",
    "    state, reward, done, _ = env.step(best_action)\n",
    "    \n",
    "    cumulative_reward += reward\n",
    "    time.sleep(0.5)\n",
    "    clear_output(wait=True)\n",
    "    env.render()\n",
    "    print('Episode Reward :', cumulative_reward)"
   ]
  },
  {
   "cell_type": "code",
   "execution_count": 19,
   "id": "e22c0e85",
   "metadata": {},
   "outputs": [
    {
     "name": "stdout",
     "output_type": "stream",
     "text": [
      "+---------+\n",
      "|\u001b[35m\u001b[34;1m\u001b[43mR\u001b[0m\u001b[0m\u001b[0m: | : :G|\n",
      "| : | : : |\n",
      "| : : : : |\n",
      "| | : | : |\n",
      "|Y| : |B: |\n",
      "+---------+\n",
      "  (Dropoff)\n",
      "Episode Reward : 8\n"
     ]
    }
   ],
   "source": [
    "done = False\n",
    "cumulative_reward = 0\n",
    "\n",
    "while(done==False):\n",
    "    best_action = np.argmax(s_table[state, :])\n",
    "    \n",
    "    state, reward, done, _ = env.step(best_action)\n",
    "    \n",
    "    cumulative_reward += reward\n",
    "    time.sleep(0.5)\n",
    "    clear_output(wait=True)\n",
    "    env.render()\n",
    "    print('Episode Reward :', cumulative_reward)"
   ]
  },
  {
   "cell_type": "code",
   "execution_count": null,
   "id": "d5ab239d",
   "metadata": {},
   "outputs": [],
   "source": []
  },
  {
   "cell_type": "code",
   "execution_count": null,
   "id": "5284f98e",
   "metadata": {},
   "outputs": [],
   "source": []
  }
 ],
 "metadata": {
  "kernelspec": {
   "display_name": "rl",
   "language": "python",
   "name": "rl"
  },
  "language_info": {
   "codemirror_mode": {
    "name": "ipython",
    "version": 3
   },
   "file_extension": ".py",
   "mimetype": "text/x-python",
   "name": "python",
   "nbconvert_exporter": "python",
   "pygments_lexer": "ipython3",
   "version": "3.9.16"
  }
 },
 "nbformat": 4,
 "nbformat_minor": 5
}
