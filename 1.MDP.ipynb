{
 "cells": [
  {
   "cell_type": "code",
   "execution_count": 13,
   "id": "36b6dcfd",
   "metadata": {},
   "outputs": [],
   "source": [
    "#Problem Statement: You're going out, do you need umbrella.\n",
    "\n",
    "#States: Rainy, Cloudy and Sunny\n",
    "#Actions: Umbrella & No umbrella\n",
    "#Reward: Dict mapping with each state action pair\n",
    "#Transition Prob\n",
    "#Discount Factor"
   ]
  },
  {
   "cell_type": "code",
   "execution_count": 14,
   "id": "a871c787",
   "metadata": {},
   "outputs": [],
   "source": [
    "import numpy as np\n",
    "import matplotlib.pyplot as plt"
   ]
  },
  {
   "cell_type": "code",
   "execution_count": 22,
   "id": "60ce9434",
   "metadata": {},
   "outputs": [
    {
     "name": "stdout",
     "output_type": "stream",
     "text": [
      "Optimal policy:\n",
      "{'Rainy': 'Umbrella', 'Cloudy': 'Umbrella', 'Sunny': 'No Umbrella'}\n"
     ]
    },
    {
     "data": {
      "text/plain": [
       "<matplotlib.image.AxesImage at 0x20987f52a40>"
      ]
     },
     "execution_count": 22,
     "metadata": {},
     "output_type": "execute_result"
    },
    {
     "data": {
      "image/png": "[encoded data removed]",
      "text/plain": [
       "<Figure size 640x480 with 1 Axes>"
      ]
     },
     "metadata": {},
     "output_type": "display_data"
    }
   ],
   "source": [
    "import numpy as np\n",
    "import matplotlib.pyplot as plt\n",
    "\n",
    "# Define the MDP parameters\n",
    "states = ['Rainy', 'Cloudy', 'Sunny']\n",
    "actions = ['Umbrella', 'No Umbrella']\n",
    "rewards = {'Rainy': {'Umbrella': -1, 'No Umbrella': -5},\n",
    "           'Cloudy': {'Umbrella': -1, 'No Umbrella': -1},\n",
    "           'Sunny': {'Umbrella': -5, 'No Umbrella': -1}}\n",
    "transitions = {'Rainy': {'Umbrella': {'Rainy': 0.7, 'Cloudy': 0.3, 'Sunny': 0},\n",
    "                         'No Umbrella': {'Rainy': 0.3, 'Cloudy': 0.4, 'Sunny': 0.3}},\n",
    "               'Cloudy': {'Umbrella': {'Rainy': 0.4, 'Cloudy': 0.6, 'Sunny': 0},\n",
    "                          'No Umbrella': {'Rainy': 0, 'Cloudy': 0.7, 'Sunny': 0.3}},\n",
    "               'Sunny': {'Umbrella': {'Rainy': 0, 'Cloudy': 0, 'Sunny': 1},\n",
    "                         'No Umbrella': {'Rainy': 0, 'Cloudy': 0.4, 'Sunny': 0.6}}}\n",
    "discount_factor = 0.9\n",
    "\n",
    "#Fn for value iter\n",
    "def value_iteration():\n",
    "    #init, the value fn for each state to 0 \n",
    "    V = {s: 0 for s in states}\n",
    "    while True:\n",
    "        #compute the updated value fn for each state\n",
    "        new_V = {}\n",
    "        for s in states:\n",
    "            values = []\n",
    "            for a in actions:\n",
    "                value = rewards[s][a]\n",
    "                for s2 in states:\n",
    "                    value += discount_factor * transitions[s][a][s2] * V[s2]\n",
    "                values.append(value)\n",
    "            new_V[s] = max(values)\n",
    "        # Check convergence\n",
    "        if all(abs(V[s] - new_V[s]) < 0.0001 for s in states):\n",
    "            return new_V\n",
    "        V = new_V\n",
    "V = value_iteration()\n",
    "\n",
    "#compute optimal policy\n",
    "policy = {}\n",
    "for s in states:\n",
    "    values = []\n",
    "    for a in actions:\n",
    "        value = rewards[s][a]\n",
    "        for s2 in states:\n",
    "            value += discount_factor * transitions[s][a][s2] * V[s2]\n",
    "        values.append(value)\n",
    "    policy[s] = actions[np.argmax(values)]\n",
    "\n",
    "print(\"Optimal policy:\")\n",
    "print(policy)\n",
    "\n",
    "# Plot\n",
    "policy_values = np.zeros((len(states), len(actions)))\n",
    "for i, s in enumerate(states):\n",
    "    for j, a in enumerate(actions):\n",
    "        policy_values[i, j] = rewards[s][a] + discount_factor * sum(transitions[s][a][s2] * V[s2] for s2 in states)\n",
    "plt.imshow(policy_values, cmap='Greys')"
   ]
  },
  {
   "cell_type": "code",
   "execution_count": null,
   "id": "a89e8bce",
   "metadata": {},
   "outputs": [],
   "source": []
  }
 ],
 "metadata": {
  "kernelspec": {
   "display_name": "co2",
   "language": "python",
   "name": "co2"
  },
  "language_info": {
   "codemirror_mode": {
    "name": "ipython",
    "version": 3
   },
   "file_extension": ".py",
   "mimetype": "text/x-python",
   "name": "python",
   "nbconvert_exporter": "python",
   "pygments_lexer": "ipython3",
   "version": "3.10.8"
  }
 },
 "nbformat": 4,
 "nbformat_minor": 5
}
