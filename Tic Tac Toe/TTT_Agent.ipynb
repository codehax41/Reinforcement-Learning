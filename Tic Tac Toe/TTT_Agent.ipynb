{
 "cells": [
  {
   "cell_type": "code",
   "execution_count": 1,
   "metadata": {},
   "outputs": [],
   "source": [
    "import collections\n",
    "import numpy as np\n",
    "import random\n",
    "import pickle\n",
    "import time\n",
    "import matplotlib.pyplot as plt\n",
    "%matplotlib inline\n",
    "from Env import TicTacToe"
   ]
  },
  {
   "cell_type": "code",
   "execution_count": 2,
   "metadata": {},
   "outputs": [],
   "source": [
    "env = TicTacToe()"
   ]
  },
  {
   "cell_type": "code",
   "execution_count": 3,
   "metadata": {},
   "outputs": [],
   "source": [
    "def q_state(state):\n",
    "    return ('-'.join(str(e) for e in state)).replace('nan', 'x')\n",
    "\n",
    "def valid_actions(state):\n",
    "    valid_Actions = []\n",
    "    valid_Actions = [i for i in env.action_space(state)[0]]\n",
    "    return valid_Actions\n",
    "\n",
    "def add_to_dict(state):\n",
    "    state1 = q_state(state)\n",
    "    valid_act = valid_actions(state)\n",
    "    if state1 not in Q_dict.keys():\n",
    "        for action in valid_act:\n",
    "            Q_dict[state1][action] = 0"
   ]
  },
  {
   "cell_type": "code",
   "execution_count": 4,
   "metadata": {},
   "outputs": [],
   "source": [
    "def epsilon_greedy(state, step_count, z):\n",
    "    if step_count>z:\n",
    "        q_states = q_state(state)\n",
    "        action = max(Q_dict[q_states], key=Q_dict[q_states].get)\n",
    "    else:\n",
    "        action = random.choice(valid_actions(state))\n",
    "    return action"
   ]
  },
  {
   "cell_type": "code",
   "execution_count": 5,
   "metadata": {},
   "outputs": [],
   "source": [
    "Q_dict = collections.defaultdict(dict)\n",
    "State_track = collections.defaultdict(dict)"
   ]
  },
  {
   "cell_type": "code",
   "execution_count": 6,
   "metadata": {},
   "outputs": [],
   "source": [
    "def initialize_track_states():\n",
    "    sample_q = [('x-x-x-x-x-x-x-x-x', (5,9)), \\\n",
    "                ('x-x-x-x-x-x-x-6-1', (0,3)), \\\n",
    "                ('4-x-x-x-x-x-x-x-7', (4,1)), \\\n",
    "                ('x-x-x-x-x-x-x-8-5', (4,9)), \\\n",
    "                ]\n",
    "    for q_vals in sample_q:\n",
    "        state = q_vals[0]\n",
    "        action = q_vals[1]\n",
    "        State_track[state][action] = []\n",
    "    "
   ]
  },
  {
   "cell_type": "code",
   "execution_count": 7,
   "metadata": {},
   "outputs": [],
   "source": [
    "def save_obj(obj, name):\n",
    "    with open(name + '.pkl', 'wb') as f:\n",
    "        pickle.dump(obj, f, pickle.HIGHEST_PROTOCOL)"
   ]
  },
  {
   "cell_type": "code",
   "execution_count": 13,
   "metadata": {},
   "outputs": [],
   "source": [
    "def save_tracking_states():\n",
    "    for state in State_track.keys():\n",
    "        for action in State_track[state].keys():\n",
    "            if state in Q_dict and action in Q_dict[state]:\n",
    "                State_track[state][action].append(Q_dict[state][action])"
   ]
  },
  {
   "cell_type": "code",
   "execution_count": 9,
   "metadata": {},
   "outputs": [],
   "source": [
    "initialize_track_states()"
   ]
  },
  {
   "cell_type": "code",
   "execution_count": 10,
   "metadata": {},
   "outputs": [],
   "source": [
    "EPISODES = 50000\n",
    "LR = 0.1\n",
    "GAMMA = 0.95\n",
    "DEBUG = False"
   ]
  },
  {
   "cell_type": "code",
   "execution_count": 11,
   "metadata": {},
   "outputs": [],
   "source": [
    "def run_agent(z, episodes=EPISODES, lr =LR, gamma=GAMMA, debug=DEBUG, env=env):\n",
    "    start_time = time.time()\n",
    "    summary = {10:0, -10:0, 0:0}\n",
    "    total_steps = 0\n",
    "\n",
    "    for episode in range(episodes):\n",
    "        env  = TicTacToe()\n",
    "        current_state = env.state\n",
    "        add_to_dict(current_state)\n",
    "\n",
    "        step_count = 0\n",
    "        total_reward = 0\n",
    "        terminated = False\n",
    "\n",
    "        if debug:\n",
    "            print()\n",
    "            print('episode ', episode)\n",
    "            print(str(current_state[0]).replace('nan', 'x'), str(current_state[1]).replace('nan', 'x'), str(current_state[2]).replace('nan','x'))\n",
    "            print(str(current_state[3]).replace('nan', 'x'), str(current_state[4]).replace('nan', 'x'), str(current_state[5]).replace('nan','x'))\n",
    "            print(str(current_state[6]).replace('nan', 'x'), str(current_state[7]).replace('nan', 'x'), str(current_state[8]).replace('nan','x'))\n",
    "            print()\n",
    "\n",
    "        while terminated == False:\n",
    "            current_action = epsilon_greedy(current_state, step_count, z)\n",
    "            next_state, reward, terminated = env.step(current_state, current_action)\n",
    "            add_to_dict(next_state)\n",
    "\n",
    "            next_q_state = q_state(next_state)\n",
    "            current_q_state = q_state(current_state)\n",
    "            if len(Q_dict[next_q_state])>0:\n",
    "                max_next = max(Q_dict[next_q_state], key=Q_dict[next_q_state].get)\n",
    "                Q_dict[current_q_state][current_action] += lr*((reward + (gamma *(Q_dict[next_q_state][max_next]))) - Q_dict[current_q_state][current_action])\n",
    "\n",
    "            current_state = next_state\n",
    "            total_reward = total_reward+1\n",
    "            step_count = step_count+1\n",
    "\n",
    "            if debug:\n",
    "                print(str(current_state[0]).replace('nan', 'x'), str(current_state[1]).replace('nan', 'x'), str(current_state[2]).replace('nan','x'))\n",
    "                print(str(current_state[3]).replace('nan', 'x'), str(current_state[4]).replace('nan', 'x'), str(current_state[5]).replace('nan','x'))\n",
    "                print(str(current_state[6]).replace('nan', 'x'), str(current_state[7]).replace('nan', 'x'), str(current_state[8]).replace('nan','x'))\n",
    "                print()\n",
    "        summary[reward] = summary[reward]+1\n",
    "        total_steps = total_steps + step_count\n",
    "        if debug:\n",
    "            print(\"Results Reward :\", reward)\n",
    "        save_tracking_states()\n",
    "\n",
    "    elapsed_time = time.time() - start_time\n",
    "    save_obj(State_track, 'states_traked')\n",
    "    save_obj(Q_dict, 'Policy')\n",
    "\n",
    "    return elapsed_time, summary, round(total_steps/episodes, 2)"
   ]
  },
  {
   "cell_type": "code",
   "execution_count": 14,
   "metadata": {},
   "outputs": [
    {
     "name": "stdout",
     "output_type": "stream",
     "text": [
      "Completed!\n",
      "Completed!\n",
      "Completed!\n",
      "Completed!\n",
      "Completed!\n",
      "Completed!\n",
      "Completed!\n"
     ]
    }
   ],
   "source": [
    "df = {'z':[], 'run_time':[], 'win_count':[], 'loose_count':[], 'tie_count':[], 'average_step_per_episode':[]}\n",
    "env = TicTacToe()\n",
    "for z in range(-1, 6):\n",
    "    Q_dict = collections.defaultdict(dict)\n",
    "    States_track = collections.defaultdict(dict)\n",
    "    run_time, reward_summary, average_steps_per_episode = run_agent(z, episodes=50000, env=env)\n",
    "    df['z'].append(z)\n",
    "    df['run_time'].append(run_time)\n",
    "    df['win_count'].append(reward_summary[10])\n",
    "    df['loose_count'].append(reward_summary[-10])\n",
    "    df['tie_count'].append(reward_summary[0])\n",
    "    df['average_step_per_episode'].append(average_steps_per_episode)\n",
    "    print('Completed!')"
   ]
  },
  {
   "cell_type": "code",
   "execution_count": 15,
   "metadata": {},
   "outputs": [
    {
     "data": {
      "text/plain": [
       "{'z': [-1, 0, 1, 2, 3, 4, 5],\n",
       " 'run_time': [34.16510534286499,\n",
       "  44.02309489250183,\n",
       "  46.30217170715332,\n",
       "  36.79861116409302,\n",
       "  35.39272427558899,\n",
       "  36.39634299278259,\n",
       "  42.7017240524292],\n",
       " 'win_count': [13625, 13540, 13194, 12820, 12417, 12362, 12598],\n",
       " 'loose_count': [13310, 13518, 13699, 13967, 14338, 14387, 14131],\n",
       " 'tie_count': [23065, 22942, 23107, 23213, 23245, 23251, 23271],\n",
       " 'average_step_per_episode': [4.37, 4.37, 4.37, 4.38, 4.37, 4.38, 4.38]}"
      ]
     },
     "execution_count": 15,
     "metadata": {},
     "output_type": "execute_result"
    }
   ],
   "source": [
    "df"
   ]
  },
  {
   "cell_type": "code",
   "execution_count": 16,
   "metadata": {},
   "outputs": [
    {
     "data": {
      "image/png": "[encoded data removed]",
      "text/plain": [
       "<Figure size 640x480 with 1 Axes>"
      ]
     },
     "metadata": {},
     "output_type": "display_data"
    }
   ],
   "source": [
    "xaxis = np.asarray(df['z'])\n",
    "plt.plot(xaxis, np.asarray(df['win_count']))\n",
    "plt.plot(xaxis, np.asarray(df['loose_count']))\n",
    "plt.plot(xaxis, np.asarray(df['tie_count']))\n",
    "plt.gca().legend(('win', 'loss', 'tie'))\n",
    "plt.show()"
   ]
  },
  {
   "cell_type": "code",
   "execution_count": null,
   "metadata": {},
   "outputs": [],
   "source": []
  }
 ],
 "metadata": {
  "kernelspec": {
   "display_name": "rl",
   "language": "python",
   "name": "python3"
  },
  "language_info": {
   "codemirror_mode": {
    "name": "ipython",
    "version": 3
   },
   "file_extension": ".py",
   "mimetype": "text/x-python",
   "name": "python",
   "nbconvert_exporter": "python",
   "pygments_lexer": "ipython3",
   "version": "3.9.16"
  },
  "orig_nbformat": 4
 },
 "nbformat": 4,
 "nbformat_minor": 2
}
